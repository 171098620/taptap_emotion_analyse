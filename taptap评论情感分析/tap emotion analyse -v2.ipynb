{
 "cells": [
  {
   "cell_type": "code",
   "execution_count": 1,
   "metadata": {},
   "outputs": [
    {
     "name": "stderr",
     "output_type": "stream",
     "text": [
      "C:\\ProgramData\\Anaconda3\\lib\\site-packages\\sklearn\\cross_validation.py:41: DeprecationWarning: This module was deprecated in version 0.18 in favor of the model_selection module into which all the refactored classes and functions are moved. Also note that the interface of the new CV iterators are different from that of this module. This module will be removed in 0.20.\n",
      "  \"This module will be removed in 0.20.\", DeprecationWarning)\n"
     ]
    }
   ],
   "source": [
    "import numpy as np\n",
    "from matplotlib import pyplot as plt\n",
    "import seaborn as sns\n",
    "import pandas as pd\n",
    "import re\n",
    "import jieba\n",
    "import gensim\n",
    "from sklearn.cross_validation import train_test_split\n",
    "import torch\n",
    "from torch import nn\n",
    "from torch.utils.data import DataLoader, TensorDataset\n",
    "from sklearn.metrics import confusion_matrix\n",
    "# 设置绘图字体为黑体\n",
    "plt.rcParams['font.sans-serif'] = ['SimHei']"
   ]
  },
  {
   "cell_type": "code",
   "execution_count": 2,
   "metadata": {},
   "outputs": [],
   "source": [
    "# 读取评论数据\n",
    "data = pd.read_csv(r'C:\\Users\\12517\\PycharmProjects\\NLP\\projects\\taptap评论情感分析\\data\\tap_reviews cleaned.csv', encoding='utf_8_sig')"
   ]
  },
  {
   "cell_type": "code",
   "execution_count": 3,
   "metadata": {},
   "outputs": [
    {
     "data": {
      "image/png": "[encoded data removed]",
      "text/plain": [
       "<Figure size 432x288 with 1 Axes>"
      ]
     },
     "metadata": {
      "needs_background": "light"
     },
     "output_type": "display_data"
    },
    {
     "name": "stdout",
     "output_type": "stream",
     "text": [
      "评论长度的9/10分位数： 123.0\n"
     ]
    }
   ],
   "source": [
    "# 查看评论长度分布\n",
    "data['contents_length'] = data['contents'].apply(lambda x: len(str(x)))\n",
    "len_se = data.groupby('contents_length')['contents_length'].count()\n",
    "sns.distplot(len_se, bins=20, hist=True, kde=True, rug=True)\n",
    "plt.title('taptap评论长度分布')\n",
    "plt.show()\n",
    "print('评论长度的9/10分位数：', data['contents_length'].quantile(0.9))\n",
    "# 计算分位数发现，90%评论在123字内；密度图表明，评论长度集中在200字以内"
   ]
  },
  {
   "cell_type": "code",
   "execution_count": 4,
   "metadata": {},
   "outputs": [
    {
     "data": {
      "image/png": "[encoded data removed]",
      "text/plain": [
       "<Figure size 432x288 with 1 Axes>"
      ]
     },
     "metadata": {
      "needs_background": "light"
     },
     "output_type": "display_data"
    },
    {
     "name": "stdout",
     "output_type": "stream",
     "text": [
      "正面评价: 9101，占总数的92.12%    负面评价: 779, 占总数的7.88%\n"
     ]
    }
   ],
   "source": [
    "# 查看评论情感分布，4星以上表示正面评价\n",
    "positive = len(data['stars'][data['stars'] >= 4])\n",
    "total = len(data['stars'])\n",
    "negative = total - positive\n",
    "sns.distplot(data['stars'], bins=5, kde=False, norm_hist=True)\n",
    "plt.title('taptap评论情感分布')\n",
    "plt.show()\n",
    "print('正面评价: %d，占总数的%.2f%%    负面评价: %d, 占总数的%.2f%%' %\n",
    "      (positive, (positive/total*100), negative, (negative/total*100)))\n",
    "# 正面评价: 9101，占总数的92.12%    负面评价: 779, 占总数的7.88%， 满分评价占总体50%以上\n",
    "# 这是标准的偏斜类数据，采用这样的数据进行训练，容易得到低召回率的模型"
   ]
  },
  {
   "cell_type": "code",
   "execution_count": 5,
   "metadata": {},
   "outputs": [
    {
     "name": "stdout",
     "output_type": "stream",
     "text": [
      "扩充评论条数 17919\n"
     ]
    },
    {
     "name": "stderr",
     "output_type": "stream",
     "text": [
      "C:\\ProgramData\\Anaconda3\\lib\\site-packages\\ipykernel_launcher.py:4: FutureWarning: Sorting because non-concatenation axis is not aligned. A future version\n",
      "of pandas will change to not sort by default.\n",
      "\n",
      "To accept the future behavior, pass 'sort=False'.\n",
      "\n",
      "To retain the current behavior and silence the warning, pass 'sort=True'.\n",
      "\n",
      "  after removing the cwd from sys.path.\n"
     ]
    },
    {
     "data": {
      "image/png": "[encoded data removed]",
      "text/plain": [
       "<Figure size 432x288 with 1 Axes>"
      ]
     },
     "metadata": {
      "needs_background": "light"
     },
     "output_type": "display_data"
    },
    {
     "name": "stdout",
     "output_type": "stream",
     "text": [
      "正面评价: 12105，占总数的43.54%    负面评价: 15694, 占总数的56.46%\n"
     ]
    }
   ],
   "source": [
    "# 使用类型相同，元素接近的游戏评论对数据集进行扩充，这里采集了另外三款游戏的评论\n",
    "extend = pd.read_csv(r'C:\\Users\\12517\\PycharmProjects\\NLP\\projects\\taptap评论情感分析\\data\\tap_reviews-extend cleaned.csv')\n",
    "print('扩充评论条数',len(extend))\n",
    "data = pd.concat([data, extend])\n",
    "# 查看评论情感分布\n",
    "positive = len(data['stars'][data['stars'] >= 4])\n",
    "total = len(data['stars'])\n",
    "negative = total - positive\n",
    "sns.distplot(data['stars'], bins=5, kde=False, norm_hist=True)\n",
    "plt.title('taptap评论情感分布')\n",
    "plt.show()\n",
    "print('正面评价: %d，占总数的%.2f%%    负面评价: %d, 占总数的%.2f%%' %\n",
    "      (positive, (positive/total*100), negative, (negative/total*100)))\n",
    "# 扩充后的正负评价结构更加合理"
   ]
  },
  {
   "cell_type": "code",
   "execution_count": 6,
   "metadata": {},
   "outputs": [
    {
     "name": "stderr",
     "output_type": "stream",
     "text": [
      "C:\\ProgramData\\Anaconda3\\lib\\site-packages\\ipykernel_launcher.py:8: SettingWithCopyWarning: \n",
      "A value is trying to be set on a copy of a slice from a DataFrame\n",
      "\n",
      "See the caveats in the documentation: http://pandas.pydata.org/pandas-docs/stable/user_guide/indexing.html#returning-a-view-versus-a-copy\n",
      "  \n"
     ]
    }
   ],
   "source": [
    "\"\"\"\n",
    "文本挖掘的预处理,分五步：\n",
    "1.去除非中文字符    2.进行中文分词   3.引入中文停用词   4.获取词向量特征   5.划分训练集和测试集\n",
    "\"\"\"\n",
    "# 模型中，X是玩家评论，Y是玩家情感，1表示正向，0表示负向；比起具体标星，更应该关注的是评论的情感，它比起标星也更容易得到准确判断\n",
    "X = data['contents']\n",
    "data['emotion'] = 0\n",
    "data['emotion'][data['stars']>=4] = 1\n",
    "Y = data['emotion']"
   ]
  },
  {
   "cell_type": "code",
   "execution_count": 7,
   "metadata": {},
   "outputs": [],
   "source": [
    "# 去除非中文字符\n",
    "def drop_non_chinese(text):\n",
    "    \"\"\"\n",
    "    :param text: str,含非中文的字符串\n",
    "    :return: str,不含非中文的字符串\n",
    "    \"\"\"\n",
    "    # \\u4e00-\\u9fa5是中文字符的范围，中括号内^表示取反\n",
    "    pattern = re.compile(r'[^\\u4e00-\\u9fa5]')\n",
    "    chinese_text = re.sub(pattern, '', text)\n",
    "    return chinese_text\n",
    "\n",
    "# 中文分词\n",
    "def split_text(chinese_text, cut_all=False):\n",
    "    \"\"\"\n",
    "    :param chinese_text: str,中文文本\n",
    "    :param cut_all: 是否采用全模式分词\n",
    "    :return: str，用空格分隔的分词文本\n",
    "    \"\"\"\n",
    "    text_generater = jieba.cut(chinese_text, cut_all=cut_all)\n",
    "    result = ' '.join(text_generater)\n",
    "    return result\n",
    "\n",
    "# 去除中文停用词\n",
    "def drop_stop_words(st_path, chinese_text):\n",
    "    \"\"\"\n",
    "    :param st_path: str，停用词文件路径\n",
    "    :param chinese_text: str，中文分词文本\n",
    "    :return: list，去除停用词的中文分词列表\n",
    "    \"\"\"\n",
    "    # 载入停用词列表\n",
    "    with open(st_path, 'r') as f:\n",
    "        st = f.read()\n",
    "        st_list = st.splitlines()\n",
    "    word_list = chinese_text.split()\n",
    "    # 删除停用词\n",
    "    for stop_word in st_list:\n",
    "        word_list = [word for word in word_list if word != stop_word]\n",
    "    return word_list"
   ]
  },
  {
   "cell_type": "code",
   "execution_count": 8,
   "metadata": {},
   "outputs": [
    {
     "name": "stderr",
     "output_type": "stream",
     "text": [
      "Building prefix dict from the default dictionary ...\n",
      "Loading model from cache C:\\Users\\12517\\AppData\\Local\\Temp\\jieba.cache\n",
      "Loading model cost 0.697 seconds.\n",
      "Prefix dict has been built successfully.\n"
     ]
    }
   ],
   "source": [
    "# 去除非中文字符\n",
    "X = X.apply(lambda x: drop_non_chinese(str(x)))\n",
    "# 中文分词\n",
    "X = X.apply(lambda x: split_text(x))\n",
    "# 3.去除中文停用词\n",
    "X = X.apply(lambda x: drop_stop_words(r'C:\\Users\\12517\\PycharmProjects\\NLP\\projects\\taptap评论情感分析\\data\\stop_words.txt', x))"
   ]
  },
  {
   "cell_type": "code",
   "execution_count": 9,
   "metadata": {},
   "outputs": [],
   "source": [
    "# 获取特征词向量 训练词向量的方法有多种，常见的就有TF-IDF、Word2Vec、Glove等等，我们使用Word2Vec训练进行特征处理\n",
    "# 训练Word2Vec词向量模型\n",
    "def train_Word2Vec_model(text, save_path):\n",
    "    # 设置词向量长度为100，最小词频为1，滑动窗口大小为5\n",
    "    model = gensim.models.Word2Vec(text, size=100, min_count=1, window=5)\n",
    "    model.save(save_path)\n",
    "    return model\n",
    "\n",
    "# 构建语料库词语到词向量的映射，以及到数字索引的映射\n",
    "def word_to_dict(X, word_vec_model):\n",
    "    \"\"\"\n",
    "    :param X: 可迭代文本\n",
    "    :param word_vec_model: 词向量模型\n",
    "    :return: -- word_to_vec: dict, 词语到词向量的映射\n",
    "             -- word_to_index: dict, 词语到数字索引的映射\n",
    "    \"\"\"\n",
    "    total_set = set()\n",
    "    word_to_vec = dict()\n",
    "    word_to_index = dict()\n",
    "\n",
    "    for x in X:\n",
    "        total_set = set.union(total_set, set(x))\n",
    "    index = 1\n",
    "    for i in total_set:\n",
    "        word_to_vec[i] = word_vec_model[i]\n",
    "        word_to_index[i] = index\n",
    "        index += 1\n",
    "\n",
    "    return word_to_vec, word_to_index"
   ]
  },
  {
   "cell_type": "code",
   "execution_count": 10,
   "metadata": {},
   "outputs": [
    {
     "name": "stderr",
     "output_type": "stream",
     "text": [
      "C:\\ProgramData\\Anaconda3\\lib\\site-packages\\smart_open\\smart_open_lib.py:402: UserWarning: This function is deprecated, use smart_open.open instead. See the migration notes for details: https://github.com/RaRe-Technologies/smart_open/blob/master/README.rst#migrating-to-the-new-open-function\n",
      "  'See the migration notes for details: %s' % _MIGRATION_NOTES_URL\n",
      "C:\\ProgramData\\Anaconda3\\lib\\site-packages\\ipykernel_launcher.py:25: DeprecationWarning: Call to deprecated `__getitem__` (Method will be removed in 4.0.0, use self.wv.__getitem__() instead).\n"
     ]
    }
   ],
   "source": [
    "# 训练Word2Vec词向量模型\n",
    "word_vec_model = train_Word2Vec_model(X, r'C:\\Users\\12517\\PycharmProjects\\NLP\\projects\\taptap评论情感分析\\data\\word2vec.model')\n",
    "\n",
    "# 构建语料库中的词语到词向量的映射，以及到数字索引的映射\n",
    "word_to_vec, word_to_index = word_to_dict(X, word_vec_model)"
   ]
  },
  {
   "cell_type": "code",
   "execution_count": 11,
   "metadata": {},
   "outputs": [
    {
     "name": "stdout",
     "output_type": "stream",
     "text": [
      "第六条评论： ['退游', '练', '错', '人物', '战士', '永远', '弟弟']        第六条评论情感(1表示正向，0表示负向)： 0\n"
     ]
    }
   ],
   "source": [
    "# 按8：2的比例划分训练集、测试集\n",
    "X_train, X_test, y_train, y_test = train_test_split(np.array(X), np.array(Y), test_size=0.2, random_state=2)\n",
    "print('第六条评论：', X_train[5], '       第六条评论情感(1表示正向，0表示负向)：', y_train[5])"
   ]
  },
  {
   "cell_type": "code",
   "execution_count": 19,
   "metadata": {},
   "outputs": [],
   "source": [
    "\"\"\"\n",
    "构建模型，模型结构：Embedding->lstm->dropout->lstm->dropout->linear->Logsoftmax\n",
    "Embedding层只接收数字输入，需要将数据集从文字转换为数字索引形式\n",
    "\"\"\"\n",
    "# 将数据集从文字转换为数字索引形式\n",
    "def text_to_index(X, word_to_index, max_len=100):\n",
    "    \"\"\"\n",
    "    :param X: 文字评论集\n",
    "    :param word_to_index: dict, 词语到数字索引的映射\n",
    "    :param max_len: int, 单个评论最大长度\n",
    "    :return: 数字索引形式的评论集\n",
    "    \"\"\"\n",
    "    m = X.shape[0]\n",
    "    # 将索引初始化为0，后面会看到，0索引表示全为0的词向量\n",
    "    X_indices = np.zeros((m, max_len))\n",
    "\n",
    "    # 历遍评论\n",
    "    for i in range(m):\n",
    "        # 历遍词语，对超过最大长度的部分进行截断\n",
    "        j = 0\n",
    "        for word in X[i][:max_len]:\n",
    "            X_indices[i, j] = word_to_index[word]\n",
    "            j += 1\n",
    "\n",
    "    return X_indices\n",
    "\n",
    "# 构建Embedding层\n",
    "def pretrained_embedding_layer(word_to_vec, word_to_index):\n",
    "    # 词汇量\n",
    "    vocab_len = len(word_to_index) + 1                        # 这里加1，表示0向量占第一个位置\n",
    "    # 词向量长度\n",
    "    emb_dim = word_to_vec['游戏'].shape[0] \n",
    "\n",
    "    # 初始化嵌入矩阵\n",
    "    emb_matrix = np.zeros((vocab_len, emb_dim))\n",
    "    # 用词向量填充嵌入矩阵，每行为一个词向量，嵌入矩阵的行索引对应word_to_index中的数字索引\n",
    "    for word, index in word_to_index.items():\n",
    "        emb_matrix[index, :] = word_to_vec[word]\n",
    "\n",
    "    # 将嵌入矩阵传入Embedding层，作为权重矩阵\n",
    "    weight = torch.from_numpy(emb_matrix)\n",
    "    embedding = nn.Embedding.from_pretrained(weight)\n",
    "    # 训练过程中不对weight进行微调\n",
    "    embedding.weight.requires_grad = True\n",
    "\n",
    "    return embedding\n",
    "\n",
    "# 构建LSTM模型框架\n",
    "class EmotionModel(nn.Module):\n",
    "    def __init__(self, word_to_vec, word_to_index, max_len, hidden_dim):\n",
    "        super(EmotionModel, self).__init__()\n",
    "        # 词向量长度\n",
    "        self.embedding_dim = word_to_vec['游戏'].shape[0]\n",
    "        # LSTM隐藏状态A的维度\n",
    "        self.hidden_dim = hidden_dim\n",
    "        # 句子最大长度\n",
    "        self.max_len = max_len\n",
    "\n",
    "        # 层次结构\n",
    "        self.embedding = pretrained_embedding_layer(word_to_vec, word_to_index)\n",
    "        self.lstm1 = nn.LSTM(input_size=self.embedding_dim, hidden_size=self.hidden_dim, batch_first=True)\n",
    "        self.dropout1 = nn.Dropout(0.5)\n",
    "        self.lstm2 = nn.LSTM(hidden_dim, hidden_dim, batch_first=True)\n",
    "        self.dropout2 = nn.Dropout(0.5)\n",
    "        self.linear = nn.Linear(self.hidden_dim*self.max_len, 1) \n",
    "        self.sigmoid = nn.Sigmoid()\n",
    "\n",
    "    def forward(self, inputs):\n",
    "        # Embedding层要求输入LongTensor，进行转换\n",
    "        embeds = self.embedding((inputs.long()))\n",
    "        # LSTM层要求输入FloatTensor，进行转换\n",
    "        # LSTM的输入维度(batch, seq_len, vec_len)，lstm_out的输出维度(batch, seq_len, n_a)\n",
    "        lstm_out1, hidden = self.lstm1(embeds.view(-1, self.max_len, self.embedding_dim).float())\n",
    "        drop_out1 = self.dropout1(lstm_out1)\n",
    "        lstm_out2, hidden = self.lstm2(drop_out1.view(-1, self.max_len, self.hidden_dim).float())\n",
    "        drop_out2 = self.dropout2(lstm_out2)\n",
    "        fc_out1 = self.linear(drop_out2.contiguous().view(-1, self.max_len*self.hidden_dim))\n",
    "        fc_out2 = self.sigmoid(fc_out1)\n",
    "        return fc_out2\n",
    "    \n",
    "# 创建数据接口\n",
    "def data_loader(X_train, y_train, batch_size=None):\n",
    "    train_db = TensorDataset(torch.from_numpy(X_train).float(), torch.squeeze(torch.from_numpy(y_train)))\n",
    "    train_loader = DataLoader(train_db, batch_size=batch_size, shuffle=True)\n",
    "    return train_loader\n",
    "\n",
    "# 训练模型并测试\n",
    "def train_model(X_train, y_train, X_test, y_test, word_to_vec, word_to_index, params_save_path,\n",
    "                max_len=100, batch_size=100, lr=0.002, epochs=400, hidden_dim=50):\n",
    "    # 将X_train转换为数字索引形式\n",
    "    X_train_indice = text_to_index(X_train, word_to_index, max_len=max_len)\n",
    "    # 载入数据\n",
    "    train_loader = data_loader(X_train_indice, y_train, batch_size=batch_size)\n",
    "    # 创建网络结构\n",
    "    model = EmotionModel(word_to_vec, word_to_index, max_len, hidden_dim)\n",
    "    # 将模型移动至GPU\n",
    "    device = torch.device(\"cuda:0\")\n",
    "    model = model.to(device)\n",
    "    # 指定成本函数\n",
    "    cost_func = nn.BCELoss()\n",
    "    # 指定优化器\n",
    "    optimizer = torch.optim.Adam(model.parameters(), lr=lr)\n",
    "    # 批次数量\n",
    "    m = len(X_train)\n",
    "    num_batches = m / batch_size\n",
    "   # 保存每步cost的列表\n",
    "    costs = []\n",
    "\n",
    "    for epoch in range(epochs):\n",
    "        epoch_cost = 0\n",
    "        for step, (batch_x, batch_y) in enumerate(train_loader):\n",
    "            # 将变量移动至GPU\n",
    "            batch_x = batch_x.to(device)\n",
    "            batch_y = batch_y.to(device)\n",
    "            # 训练\n",
    "            output = model.forward(batch_x)\n",
    "            cost = cost_func(output.squeeze(), batch_y.float())\n",
    "            epoch_cost += cost\n",
    "            optimizer.zero_grad()\n",
    "            cost.backward()\n",
    "            optimizer.step()\n",
    "\n",
    "        epoch_cost /= num_batches\n",
    "        costs.append(epoch_cost)\n",
    "        print('Cost after epoch %i : %f' % (epoch, float(epoch_cost)))\n",
    "\n",
    "    # 保存学习后的参数\n",
    "    torch.save(model.state_dict(), params_save_path)\n",
    "    print('参数已保存至本地pkl文件。')\n",
    "    \n",
    "    # 绘制学习曲线\n",
    "    plt.plot(costs)\n",
    "    plt.xlabel('iterations')\n",
    "    plt.ylabel('cost')\n",
    "    plt.show()\n",
    "    \n",
    "    # 将模型移动至cpu\n",
    "    model = model.cpu()\n",
    "    # 转换模型为测试模式，测试模式下不使用dropout层\n",
    "    model = model.eval()\n",
    "    # 训练集准确率\n",
    "    output_train = model(torch.from_numpy(X_train_indice).float())\n",
    "    pred_y_train = np.squeeze(np.round(output_train.data.numpy()).astype(int))\n",
    "    print('Train Accuracy: %.2f%%' % float(np.sum(y_train == pred_y_train) / m * 100))\n",
    "\n",
    "    # 测试集准确率\n",
    "    X_test_indice = text_to_index(X_test, word_to_index, max_len=max_len)\n",
    "    output_test = model(torch.from_numpy(X_test_indice).float())\n",
    "    pred_y_test = np.squeeze(np.round(output_test.data.numpy()).astype(int))\n",
    "    print('Test Accuracy: %.2f%%' % float(np.sum(y_test == pred_y_test) / len(X_test_indice) * 100))\n",
    "    return pred_y_test"
   ]
  },
  {
   "cell_type": "code",
   "execution_count": 20,
   "metadata": {},
   "outputs": [
    {
     "name": "stdout",
     "output_type": "stream",
     "text": [
      "Cost after epoch 0 : 0.575687\n",
      "Cost after epoch 1 : 0.385193\n",
      "Cost after epoch 2 : 0.268292\n",
      "Cost after epoch 3 : 0.180477\n",
      "Cost after epoch 4 : 0.142923\n",
      "Cost after epoch 5 : 0.119637\n",
      "Cost after epoch 6 : 0.107630\n",
      "Cost after epoch 7 : 0.103470\n",
      "Cost after epoch 8 : 0.097411\n",
      "Cost after epoch 9 : 0.091850\n",
      "Cost after epoch 10 : 0.092104\n",
      "Cost after epoch 11 : 0.089636\n",
      "Cost after epoch 12 : 0.082976\n",
      "Cost after epoch 13 : 0.081194\n",
      "Cost after epoch 14 : 0.077837\n",
      "Cost after epoch 15 : 0.074287\n",
      "Cost after epoch 16 : 0.073167\n",
      "Cost after epoch 17 : 0.066409\n",
      "Cost after epoch 18 : 0.070679\n",
      "Cost after epoch 19 : 0.066351\n",
      "Cost after epoch 20 : 0.063405\n",
      "Cost after epoch 21 : 0.060049\n",
      "Cost after epoch 22 : 0.061493\n",
      "Cost after epoch 23 : 0.059262\n",
      "Cost after epoch 24 : 0.058845\n",
      "Cost after epoch 25 : 0.058042\n",
      "Cost after epoch 26 : 0.055338\n",
      "Cost after epoch 27 : 0.055803\n",
      "Cost after epoch 28 : 0.053968\n",
      "Cost after epoch 29 : 0.056520\n",
      "Cost after epoch 30 : 0.050129\n",
      "Cost after epoch 31 : 0.050006\n",
      "Cost after epoch 32 : 0.051197\n",
      "Cost after epoch 33 : 0.048269\n",
      "Cost after epoch 34 : 0.048675\n",
      "Cost after epoch 35 : 0.045465\n",
      "Cost after epoch 36 : 0.046296\n",
      "Cost after epoch 37 : 0.041396\n",
      "Cost after epoch 38 : 0.039947\n",
      "Cost after epoch 39 : 0.040972\n",
      "Cost after epoch 40 : 0.044253\n",
      "Cost after epoch 41 : 0.057651\n",
      "Cost after epoch 42 : 0.046971\n",
      "Cost after epoch 43 : 0.043106\n",
      "Cost after epoch 44 : 0.042403\n",
      "Cost after epoch 45 : 0.041371\n",
      "Cost after epoch 46 : 0.038803\n",
      "Cost after epoch 47 : 0.038649\n",
      "Cost after epoch 48 : 0.038434\n",
      "Cost after epoch 49 : 0.038864\n",
      "参数已保存至本地pkl文件。\n"
     ]
    },
    {
     "data": {
      "image/png": "[encoded data removed]",
      "text/plain": [
       "<Figure size 432x288 with 1 Axes>"
      ]
     },
     "metadata": {
      "needs_background": "light"
     },
     "output_type": "display_data"
    },
    {
     "name": "stdout",
     "output_type": "stream",
     "text": [
      "Train Accuracy: 98.52%\n",
      "Test Accuracy: 80.43%\n"
     ]
    }
   ],
   "source": [
    "# 训练模型\n",
    "max_len = 50\n",
    "batch_size = 500\n",
    "hidden_dim = 100\n",
    "params_save_path = r'C:\\Users\\12517\\PycharmProjects\\NLP\\projects\\taptap评论情感分析\\data\\emo_parms.pkl'\n",
    "pred_y_test = train_model(X_train, y_train, X_test, y_test, word_to_vec, word_to_index, params_save_path, \n",
    "                    max_len=max_len, batch_size=batch_size, hidden_dim=hidden_dim, lr=0.002, epochs=50)"
   ]
  },
  {
   "cell_type": "code",
   "execution_count": 22,
   "metadata": {},
   "outputs": [],
   "source": [
    "# 混淆矩阵\n",
    "def confuse_matrix(y, pred_y):\n",
    "    fp = np.sum((pred_y==1)&(y==0))\n",
    "    fn = np.sum((pred_y==0)&(y==1))\n",
    "    tp = np.sum((pred_y==1)&(y==1))\n",
    "    tn = np.sum((pred_y==0)&(y==0))\n",
    "    confuse_matrix = np.array([[tp, fp], [fn, tn]])\n",
    "    precision = tp / (fp+tp)\n",
    "    recall = tn / (fn + tn)\n",
    "    F1 = 2 * (precision*recall) / (precision+recall)\n",
    "    print(confuse_matrix)\n",
    "    print('Precision = %.2f,   Recall = %.2f    F1 = %.2f' % (precision, recall, F1))"
   ]
  },
  {
   "cell_type": "code",
   "execution_count": 23,
   "metadata": {},
   "outputs": [
    {
     "name": "stdout",
     "output_type": "stream",
     "text": [
      "[[1967  640]\n",
      " [ 448 2505]]\n",
      "Precision = 0.75,   Recall = 0.85    F1 = 0.80\n"
     ]
    }
   ],
   "source": [
    "# 混淆矩阵\n",
    "confuse_matrix(y_test, pred_y_test)\n",
    "# 虽然查准率下降了，但是召回率和F1值都有很大提升，对于更关注负向评论的游戏厂商来说，这个模型更能够帮助他们在庞大的玩家留言中找到更应该关注的信息\n",
    "# 当然啦，这个模型还有很大的优化空间~"
   ]
  },
  {
   "cell_type": "code",
   "execution_count": 65,
   "metadata": {},
   "outputs": [
    {
     "name": "stdout",
     "output_type": "stream",
     "text": [
      "----\n",
      "评论： 说实话这是一款非常不错的游戏！画质细腻，最重要的是可以切换横屏竖屏！惊喜啊！现在想玩到高质量的竖屏暗黑游戏太难啦！18元超值！\n",
      "预测评分： 大于8\n",
      "预测情感： 正向\n",
      "----\n",
      "评论： 先不说肝不肝，这个游戏的行走机制玩的真想让人砸手机，跑步和行走就是在走格子，见怪停顿然后你走一步怪走一步，受不了。\n",
      "预测评分： 小于8\n",
      "预测情感： 负向\n",
      "----\n",
      "评论： 这游戏玩不懂啊，感觉引导很奇怪，然后里面的机制也很奇怪，玩得一脸懵逼，啥跟啥都不知道...\n",
      "预测评分： 小于8\n",
      "预测情感： 负向\n",
      "----\n",
      "评论： 游戏是好游戏，代理太差了，毫无征兆说要开始测试，又随便找个理由跳票，既然没准备测试就不要放出消息啊，用这样的方法刷一波存在感有意思吗？\n",
      "预测评分： 小于8\n",
      "预测情感： 负向\n",
      "----\n",
      "评论： 今天刚玩，感觉很有趣，制作很良心。很多细节。感觉应该挺耐玩。剧情写得很有意思。很多可以探索的。感觉还蛮值得一玩的。\n",
      "预测评分： 大于8\n",
      "预测情感： 正向\n",
      "----\n",
      "评论： 这些游戏啊，进都不好进\n",
      "预测评分： 小于8\n",
      "预测情感： 负向\n"
     ]
    }
   ],
   "source": [
    "# # 现在找几条未见过的评论来测试一下\n",
    "# # 载入模型\n",
    "# model = EmotionModel(word_to_vec, word_to_index, max_len, hidden_dim)\n",
    "# model.load_state_dict(torch.load(params_save_path))\n",
    "# model.eval()\n",
    "# 待预测的评论\n",
    "r1 = '说实话这是一款非常不错的游戏！画质细腻，最重要的是可以切换横屏竖屏！惊喜啊！现在想玩到高质量的竖屏暗黑游戏太难啦！18元超值！'\n",
    "r2 = '先不说肝不肝，这个游戏的行走机制玩的真想让人砸手机，跑步和行走就是在走格子，见怪停顿然后你走一步怪走一步，受不了。'\n",
    "r3 = '这游戏玩不懂啊，感觉引导很奇怪，然后里面的机制也很奇怪，玩得一脸懵逼，啥跟啥都不知道...'\n",
    "r4 = '游戏是好游戏，代理太差了，毫无征兆说要开始测试，又随便找个理由跳票，既然没准备测试就不要放出消息啊，用这样的方法刷一波存在感有意思吗？'\n",
    "r5 = '今天刚玩，感觉很有趣，制作很良心。很多细节。感觉应该挺耐玩。剧情写得很有意思。很多可以探索的。感觉还蛮值得一玩的。'\n",
    "r6 = '这些游戏啊，进都不好进'\n",
    "list1 = [r1, r2, r3, r4, r5, r6]\n",
    "list2 = list1.copy()\n",
    "for i in range(len(list2)):\n",
    "    list2[i] = drop_stop_words(r'C:\\Users\\12517\\PycharmProjects\\NLP\\projects\\taptap评论情感分析\\data\\stop_words.txt',\n",
    "                               split_text(drop_non_chinese(list2[i])))\n",
    "test_review_indice = text_to_index(np.array(list2), word_to_index, max_len=max_len)\n",
    "output = model(torch.from_numpy(test_review_indice).float())\n",
    "pred = np.squeeze(np.round(output.data.numpy()).astype(int))\n",
    "for i, j, k in zip(list1, output, pred):\n",
    "    print('----\\n评论：', i)\n",
    "    print('预测评分：', ('大于8' if float(j) >= 0.5 else '小于8'))\n",
    "    print('预测情感：', ('正向' if k == 1 else '负向'))"
   ]
  },
  {
   "cell_type": "code",
   "execution_count": null,
   "metadata": {},
   "outputs": [],
   "source": []
  }
 ],
 "metadata": {
  "kernelspec": {
   "display_name": "Python 3",
   "language": "python",
   "name": "python3"
  },
  "language_info": {
   "codemirror_mode": {
    "name": "ipython",
    "version": 3
   },
   "file_extension": ".py",
   "mimetype": "text/x-python",
   "name": "python",
   "nbconvert_exporter": "python",
   "pygments_lexer": "ipython3",
   "version": "3.7.0"
  }
 },
 "nbformat": 4,
 "nbformat_minor": 2
}
